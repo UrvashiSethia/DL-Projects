{
 "cells": [
  {
   "cell_type": "code",
   "execution_count": null,
   "id": "2f91fec6",
   "metadata": {},
   "outputs": [],
   "source": [
    "#!pip install torch"
   ]
  },
  {
   "cell_type": "code",
   "execution_count": null,
   "id": "2e931f61",
   "metadata": {},
   "outputs": [],
   "source": [
    "#!pip install torchvision"
   ]
  },
  {
   "cell_type": "code",
   "execution_count": null,
   "id": "d1c26107",
   "metadata": {},
   "outputs": [],
   "source": [
    "device = 'cuda' if torch.cuda.is_available() else 'cpu'\n",
    "print(f'Using {device} device')"
   ]
  },
  {
   "cell_type": "code",
   "execution_count": 1,
   "id": "c0abb3cd",
   "metadata": {},
   "outputs": [],
   "source": [
    "import numpy as np\n",
    "import pandas as pd\n",
    "import seaborn as sns\n",
    "import matplotlib.pyplot as plt\n",
    "\n",
    "import torch\n",
    "import torch.nn as nn\n",
    "import torch.optim as optim\n",
    "from torch.utils.data import Dataset, DataLoader\n",
    "\n",
    "from sklearn.preprocessing import StandardScaler    \n",
    "from sklearn.model_selection import train_test_split\n",
    "from sklearn.metrics import confusion_matrix, classification_report"
   ]
  },
  {
   "cell_type": "code",
   "execution_count": 2,
   "id": "63bfb695",
   "metadata": {},
   "outputs": [
    {
     "data": {
      "text/html": [
       "<div>\n",
       "<style scoped>\n",
       "    .dataframe tbody tr th:only-of-type {\n",
       "        vertical-align: middle;\n",
       "    }\n",
       "\n",
       "    .dataframe tbody tr th {\n",
       "        vertical-align: top;\n",
       "    }\n",
       "\n",
       "    .dataframe thead th {\n",
       "        text-align: right;\n",
       "    }\n",
       "</style>\n",
       "<table border=\"1\" class=\"dataframe\">\n",
       "  <thead>\n",
       "    <tr style=\"text-align: right;\">\n",
       "      <th></th>\n",
       "      <th>Maths</th>\n",
       "      <th>Physics</th>\n",
       "      <th>Chemistry</th>\n",
       "      <th>Result</th>\n",
       "    </tr>\n",
       "  </thead>\n",
       "  <tbody>\n",
       "    <tr>\n",
       "      <th>0</th>\n",
       "      <td>17</td>\n",
       "      <td>27</td>\n",
       "      <td>22</td>\n",
       "      <td>0</td>\n",
       "    </tr>\n",
       "    <tr>\n",
       "      <th>1</th>\n",
       "      <td>72</td>\n",
       "      <td>82</td>\n",
       "      <td>77</td>\n",
       "      <td>1</td>\n",
       "    </tr>\n",
       "    <tr>\n",
       "      <th>2</th>\n",
       "      <td>97</td>\n",
       "      <td>18</td>\n",
       "      <td>13</td>\n",
       "      <td>0</td>\n",
       "    </tr>\n",
       "    <tr>\n",
       "      <th>3</th>\n",
       "      <td>8</td>\n",
       "      <td>42</td>\n",
       "      <td>37</td>\n",
       "      <td>0</td>\n",
       "    </tr>\n",
       "    <tr>\n",
       "      <th>4</th>\n",
       "      <td>32</td>\n",
       "      <td>25</td>\n",
       "      <td>20</td>\n",
       "      <td>0</td>\n",
       "    </tr>\n",
       "  </tbody>\n",
       "</table>\n",
       "</div>"
      ],
      "text/plain": [
       "   Maths  Physics  Chemistry  Result\n",
       "0     17       27         22       0\n",
       "1     72       82         77       1\n",
       "2     97       18         13       0\n",
       "3      8       42         37       0\n",
       "4     32       25         20       0"
      ]
     },
     "execution_count": 2,
     "metadata": {},
     "output_type": "execute_result"
    }
   ],
   "source": [
    "df = pd.read_csv(\"Student.csv\")\n",
    "df.head()"
   ]
  },
  {
   "cell_type": "code",
   "execution_count": 3,
   "id": "51da6fd3",
   "metadata": {},
   "outputs": [
    {
     "data": {
      "text/plain": [
       "<AxesSubplot:xlabel='Result', ylabel='count'>"
      ]
     },
     "execution_count": 3,
     "metadata": {},
     "output_type": "execute_result"
    },
    {
     "data": {
      "image/png": "[encoded data removed]",
      "text/plain": [
       "<Figure size 432x288 with 1 Axes>"
      ]
     },
     "metadata": {
      "needs_background": "light"
     },
     "output_type": "display_data"
    }
   ],
   "source": [
    "sns.countplot(x = 'Result', data=df)"
   ]
  },
  {
   "cell_type": "markdown",
   "id": "9728c7ce",
   "metadata": {},
   "source": [
    "The last column is our output. The input is all the columns but the last one."
   ]
  },
  {
   "cell_type": "code",
   "execution_count": 4,
   "id": "b3bc183c",
   "metadata": {},
   "outputs": [],
   "source": [
    "#convert imput to numpy arrays\n",
    "X = df.drop(columns=['Result'])"
   ]
  },
  {
   "cell_type": "code",
   "execution_count": 5,
   "id": "dca67508",
   "metadata": {},
   "outputs": [],
   "source": [
    "y= df['Result']"
   ]
  },
  {
   "cell_type": "code",
   "execution_count": 6,
   "id": "5d21996b",
   "metadata": {},
   "outputs": [],
   "source": [
    "from sklearn.model_selection import train_test_split\n",
    "X_train, X_test, y_train, y_test = train_test_split(X, y, test_size=0.2, random_state=2)"
   ]
  },
  {
   "cell_type": "code",
   "execution_count": 7,
   "id": "17832109",
   "metadata": {},
   "outputs": [
    {
     "name": "stdout",
     "output_type": "stream",
     "text": [
      "Shape of train set is (800, 3)\n",
      "Shape of test set is (200, 3)\n",
      "Shape of train label is (800,)\n",
      "Shape of test labels is (200,)\n"
     ]
    }
   ],
   "source": [
    "print(f\"Shape of train set is {X_train.shape}\")\n",
    "print(f\"Shape of test set is {X_test.shape}\")\n",
    "print(f\"Shape of train label is {y_train.shape}\")\n",
    "print(f\"Shape of test labels is {y_test.shape}\")"
   ]
  },
  {
   "cell_type": "code",
   "execution_count": 8,
   "id": "d84b98f7",
   "metadata": {},
   "outputs": [],
   "source": [
    "scaler = StandardScaler()\n",
    "X_train = scaler.fit_transform(X_train)\n",
    "X_test = scaler.transform(X_test)"
   ]
  },
  {
   "cell_type": "code",
   "execution_count": 9,
   "id": "98ca1359",
   "metadata": {},
   "outputs": [],
   "source": [
    "EPOCHS = 50\n",
    "BATCH_SIZE = 100\n",
    "LEARNING_RATE = 0.001"
   ]
  },
  {
   "cell_type": "code",
   "execution_count": 10,
   "id": "a1c58e56",
   "metadata": {},
   "outputs": [],
   "source": [
    "## train data\n",
    "class TrainData(Dataset):\n",
    "    \n",
    "    def __init__(self, X_data, y_data):\n",
    "        self.X_data = X_data\n",
    "        self.y_data = y_data\n",
    "        \n",
    "    def __getitem__(self, index):\n",
    "        return self.X_data[index], self.y_data[index]\n",
    "        \n",
    "    def __len__ (self):\n",
    "        return len(self.X_data)\n",
    "\n",
    "\n",
    "train_data = TrainData(torch.FloatTensor(X_train), \n",
    "                       torch.FloatTensor(y_train))\n",
    "## test data    \n",
    "class TestData(Dataset):\n",
    "    \n",
    "    def __init__(self, X_data):\n",
    "        self.X_data = X_data\n",
    "        \n",
    "    def __getitem__(self, index):\n",
    "        return self.X_data[index]\n",
    "        \n",
    "    def __len__ (self):\n",
    "        return len(self.X_data)\n",
    "    \n",
    "\n",
    "test_data = TestData(torch.FloatTensor(X_test))"
   ]
  },
  {
   "cell_type": "code",
   "execution_count": 11,
   "id": "5842e00c",
   "metadata": {},
   "outputs": [],
   "source": [
    "train_loader = DataLoader(dataset=train_data, batch_size=BATCH_SIZE, shuffle=True)\n",
    "test_loader = DataLoader(dataset=test_data, batch_size=1)"
   ]
  },
  {
   "cell_type": "code",
   "execution_count": 12,
   "id": "00eb803e",
   "metadata": {},
   "outputs": [],
   "source": [
    "#2 layer Feed-Forward network with BatchNorm and Dropout\n",
    "\n",
    "\n",
    "#Note: I did not use the Sigmoid activation in our final layer during training. That’s because, we use the nn.BCEWithLogitsLoss() loss function which automatically applies the the Sigmoid activation.\n",
    "\n",
    "class BinaryClassification(nn.Module):\n",
    "    def __init__(self):\n",
    "        super(BinaryClassification, self).__init__()\n",
    "        # Number of input features is 3.\n",
    "        self.layer_1 = nn.Linear(3, 100) \n",
    "        self.layer_2 = nn.Linear(100, 100)\n",
    "        self.layer_out = nn.Linear(100, 1) \n",
    "        \n",
    "        self.relu = nn.ReLU()\n",
    "        self.dropout = nn.Dropout(p=0.1)\n",
    "        self.batchnorm1 = nn.BatchNorm1d(100)\n",
    "        self.batchnorm2 = nn.BatchNorm1d(100)\n",
    "        \n",
    "    def forward(self, inputs):\n",
    "        x = self.relu(self.layer_1(inputs))\n",
    "        x = self.batchnorm1(x)\n",
    "        x = self.relu(self.layer_2(x))\n",
    "        x = self.batchnorm2(x)\n",
    "        x = self.dropout(x)\n",
    "        x = self.layer_out(x)\n",
    "        \n",
    "        return x"
   ]
  },
  {
   "cell_type": "code",
   "execution_count": 13,
   "id": "bc095cba",
   "metadata": {},
   "outputs": [
    {
     "name": "stdout",
     "output_type": "stream",
     "text": [
      "cpu\n"
     ]
    }
   ],
   "source": [
    "device = torch.device(\"cuda:0\" if torch.cuda.is_available() else \"cpu\")\n",
    "print(device)"
   ]
  },
  {
   "cell_type": "markdown",
   "id": "8202a144",
   "metadata": {},
   "source": [
    "After this, we initialize our optimizer and decide on which loss function to use."
   ]
  },
  {
   "cell_type": "code",
   "execution_count": 14,
   "id": "8279a852",
   "metadata": {},
   "outputs": [
    {
     "name": "stdout",
     "output_type": "stream",
     "text": [
      "BinaryClassification(\n",
      "  (layer_1): Linear(in_features=3, out_features=100, bias=True)\n",
      "  (layer_2): Linear(in_features=100, out_features=100, bias=True)\n",
      "  (layer_out): Linear(in_features=100, out_features=1, bias=True)\n",
      "  (relu): ReLU()\n",
      "  (dropout): Dropout(p=0.1, inplace=False)\n",
      "  (batchnorm1): BatchNorm1d(100, eps=1e-05, momentum=0.1, affine=True, track_running_stats=True)\n",
      "  (batchnorm2): BatchNorm1d(100, eps=1e-05, momentum=0.1, affine=True, track_running_stats=True)\n",
      ")\n"
     ]
    }
   ],
   "source": [
    "model = BinaryClassification()\n",
    "model.to(device)\n",
    "print(model)\n",
    "criterion = nn.BCEWithLogitsLoss()\n",
    "optimizer = optim.Adam(model.parameters(), lr=LEARNING_RATE)"
   ]
  },
  {
   "cell_type": "markdown",
   "id": "fb341990",
   "metadata": {},
   "source": [
    "**Train the model**"
   ]
  },
  {
   "cell_type": "code",
   "execution_count": 15,
   "id": "1171fdfd",
   "metadata": {},
   "outputs": [],
   "source": [
    "def binary_acc(y_pred, y_test):\n",
    "    y_pred_tag = torch.round(torch.sigmoid(y_pred))\n",
    "\n",
    "    correct_results_sum = (y_pred_tag == y_test).sum().float()\n",
    "    acc = correct_results_sum/y_test.shape[0]\n",
    "    acc = torch.round(acc * 100)\n",
    "    \n",
    "    return acc"
   ]
  },
  {
   "cell_type": "code",
   "execution_count": 16,
   "id": "ae559ab9",
   "metadata": {},
   "outputs": [
    {
     "name": "stdout",
     "output_type": "stream",
     "text": [
      "Epoch 001: | Loss: 0.54822 | Acc: 70.000\n",
      "Epoch 002: | Loss: 0.36409 | Acc: 85.250\n",
      "Epoch 003: | Loss: 0.29482 | Acc: 90.500\n",
      "Epoch 004: | Loss: 0.25093 | Acc: 92.625\n",
      "Epoch 005: | Loss: 0.21661 | Acc: 93.750\n",
      "Epoch 006: | Loss: 0.18262 | Acc: 93.875\n",
      "Epoch 007: | Loss: 0.15883 | Acc: 95.875\n",
      "Epoch 008: | Loss: 0.14057 | Acc: 96.750\n",
      "Epoch 009: | Loss: 0.12936 | Acc: 96.000\n",
      "Epoch 010: | Loss: 0.11426 | Acc: 96.625\n",
      "Epoch 011: | Loss: 0.11509 | Acc: 96.375\n",
      "Epoch 012: | Loss: 0.10570 | Acc: 96.375\n",
      "Epoch 013: | Loss: 0.08771 | Acc: 97.500\n",
      "Epoch 014: | Loss: 0.08787 | Acc: 97.000\n",
      "Epoch 015: | Loss: 0.08912 | Acc: 97.250\n",
      "Epoch 016: | Loss: 0.09238 | Acc: 96.750\n",
      "Epoch 017: | Loss: 0.08116 | Acc: 96.875\n",
      "Epoch 018: | Loss: 0.06558 | Acc: 97.750\n",
      "Epoch 019: | Loss: 0.07750 | Acc: 97.500\n",
      "Epoch 020: | Loss: 0.06834 | Acc: 98.000\n",
      "Epoch 021: | Loss: 0.08219 | Acc: 96.750\n",
      "Epoch 022: | Loss: 0.06997 | Acc: 97.125\n",
      "Epoch 023: | Loss: 0.05944 | Acc: 98.125\n",
      "Epoch 024: | Loss: 0.05918 | Acc: 97.500\n",
      "Epoch 025: | Loss: 0.06246 | Acc: 97.375\n",
      "Epoch 026: | Loss: 0.05480 | Acc: 97.875\n",
      "Epoch 027: | Loss: 0.06206 | Acc: 97.625\n",
      "Epoch 028: | Loss: 0.04863 | Acc: 98.000\n",
      "Epoch 029: | Loss: 0.05581 | Acc: 98.000\n",
      "Epoch 030: | Loss: 0.05385 | Acc: 98.250\n",
      "Epoch 031: | Loss: 0.04937 | Acc: 98.250\n",
      "Epoch 032: | Loss: 0.04257 | Acc: 98.375\n",
      "Epoch 033: | Loss: 0.05390 | Acc: 97.750\n",
      "Epoch 034: | Loss: 0.05231 | Acc: 98.250\n",
      "Epoch 035: | Loss: 0.06498 | Acc: 97.000\n",
      "Epoch 036: | Loss: 0.04729 | Acc: 97.875\n",
      "Epoch 037: | Loss: 0.06124 | Acc: 97.375\n",
      "Epoch 038: | Loss: 0.05366 | Acc: 98.000\n",
      "Epoch 039: | Loss: 0.04442 | Acc: 98.375\n",
      "Epoch 040: | Loss: 0.07036 | Acc: 97.500\n",
      "Epoch 041: | Loss: 0.06292 | Acc: 96.750\n",
      "Epoch 042: | Loss: 0.07307 | Acc: 97.500\n",
      "Epoch 043: | Loss: 0.04846 | Acc: 97.750\n",
      "Epoch 044: | Loss: 0.06259 | Acc: 97.875\n",
      "Epoch 045: | Loss: 0.04864 | Acc: 97.750\n",
      "Epoch 046: | Loss: 0.07752 | Acc: 96.375\n",
      "Epoch 047: | Loss: 0.04449 | Acc: 98.250\n",
      "Epoch 048: | Loss: 0.03964 | Acc: 98.125\n",
      "Epoch 049: | Loss: 0.03697 | Acc: 98.250\n",
      "Epoch 050: | Loss: 0.03956 | Acc: 98.750\n"
     ]
    }
   ],
   "source": [
    "#We do optimizer.zero_grad() before we make any predictions. Since the backward() function accumulates gradients, we need to set it to 0 manually per mini-batch.\n",
    "\n",
    "model.train()\n",
    "for e in range(1, EPOCHS+1):\n",
    "    epoch_loss = 0\n",
    "    epoch_acc = 0\n",
    "    for X_batch, y_batch in train_loader:\n",
    "        X_batch, y_batch = X_batch.to(device), y_batch.to(device)\n",
    "        optimizer.zero_grad()\n",
    "        \n",
    "        y_pred = model(X_batch)\n",
    "        \n",
    "        loss = criterion(y_pred, y_batch.unsqueeze(1))\n",
    "        acc = binary_acc(y_pred, y_batch.unsqueeze(1))\n",
    "        \n",
    "        loss.backward()\n",
    "        optimizer.step()\n",
    "        \n",
    "        epoch_loss += loss.item()\n",
    "        epoch_acc += acc.item()\n",
    "        \n",
    "\n",
    "    print(f'Epoch {e+0:03}: | Loss: {epoch_loss/len(train_loader):.5f} | Acc: {epoch_acc/len(train_loader):.3f}')"
   ]
  },
  {
   "cell_type": "code",
   "execution_count": 17,
   "id": "21c7e9a6",
   "metadata": {},
   "outputs": [],
   "source": [
    "#To tell PyTorch that we do not want to perform back-propagation during inference, we use torch.no_grad() which reduces memory usage and speeds up computation.\n",
    "\n",
    "y_pred_list = []\n",
    "model.eval()\n",
    "with torch.no_grad():\n",
    "    for X_batch in test_loader:\n",
    "        X_batch = X_batch.to(device)\n",
    "        y_test_pred = model(X_batch)\n",
    "        y_test_pred = torch.sigmoid(y_test_pred)\n",
    "        y_pred_tag = torch.round(y_test_pred)\n",
    "        y_pred_list.append(y_pred_tag.cpu().numpy())\n",
    "\n",
    "y_pred_list = [a.squeeze().tolist() for a in y_pred_list]"
   ]
  },
  {
   "cell_type": "code",
   "execution_count": 18,
   "id": "b7a287a6",
   "metadata": {},
   "outputs": [
    {
     "data": {
      "text/plain": [
       "array([[156,   1],\n",
       "       [  2,  41]], dtype=int64)"
      ]
     },
     "execution_count": 18,
     "metadata": {},
     "output_type": "execute_result"
    }
   ],
   "source": [
    "confusion_matrix(y_test, y_pred_list)\n"
   ]
  },
  {
   "cell_type": "code",
   "execution_count": 19,
   "id": "72424b03",
   "metadata": {},
   "outputs": [
    {
     "name": "stdout",
     "output_type": "stream",
     "text": [
      "              precision    recall  f1-score   support\n",
      "\n",
      "           0       0.99      0.99      0.99       157\n",
      "           1       0.98      0.95      0.96        43\n",
      "\n",
      "    accuracy                           0.98       200\n",
      "   macro avg       0.98      0.97      0.98       200\n",
      "weighted avg       0.98      0.98      0.98       200\n",
      "\n"
     ]
    }
   ],
   "source": [
    "print(classification_report(y_test, y_pred_list))\n"
   ]
  },
  {
   "cell_type": "code",
   "execution_count": null,
   "id": "19713ca1",
   "metadata": {},
   "outputs": [],
   "source": []
  }
 ],
 "metadata": {
  "kernelspec": {
   "display_name": "Python 3",
   "language": "python",
   "name": "python3"
  },
  "language_info": {
   "codemirror_mode": {
    "name": "ipython",
    "version": 3
   },
   "file_extension": ".py",
   "mimetype": "text/x-python",
   "name": "python",
   "nbconvert_exporter": "python",
   "pygments_lexer": "ipython3",
   "version": "3.8.8"
  }
 },
 "nbformat": 4,
 "nbformat_minor": 5
}
